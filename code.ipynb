#Python program to play tic tac toe
import numpy as np
import random 
random.seed(1)
def create_board():
    a = np.zeros((3,3))
    return a

def place(board, player, position):
    if player ==2 or player==1:
        if board[position]==0:
            board[position] = player
    return board
            
#board = place(create_board(),1,(0,0))    
def possibilites(board):
    b = np.where(board==0)
    y =[]
    for x in range(len(b[0])):
        y.append((b[0][x],b[1][x]))
    return y
def random_place(board,player):
    #try:
    if len(possibilites(board))>0:
        a = random.choice(possibilites(board))
        board[a]=player
    #except:
        #evaluate(board)
    return board
# write your code here!
def row_win(board, player):
    for i in range(3):
        if all(board[i,]==player)==True:
            return True
        else:
            return False
def col_win(board, player):
    for i in range(3):
        if all(board[:,i]==player)==True:
            return True
        else:
            return False
def diag_win(board, player):
    #for i in range(3):
    if np.all(np.diag(board)==player) or np.all(np.diag(np.fliplr(board))==player):
        return True
    else:
        return False    
def evaluate(board):
    winner = 0
    for player in [1, 2]:
        if any([col_win(board,player),row_win(board,player),diag_win(board,player)])==True:
            winner = player
        
    if np.all(board != 0) and winner == 0:
        winner = -1
    return winner
random.seed(1)

def play_game():
    r = []
    for a in range(10):
        board = create_board()
        while evaluate(board) not in (-1,1,2):
            board = random_place(board,1)
            if evaluate(board) in [-1,1,2] :
                print(evaluate(board))
                r.append(evaluate(board))
                break
            board = random_place(board,2)
      
            if evaluate(board) in [-1,1,2] :
                print(evaluate(board))
                r.append(evaluate(board))
                break
    
    return r
#another way to write above function
def play_game1():
    board, winner = create_board(), 0
    while winner == 0:
        for player in [1,2]:
            random_place(board, player)
            winner = evaluate(board)
            if winner != 0:
                break
    return winner
